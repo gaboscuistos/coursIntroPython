{
 "cells": [
  {
   "cell_type": "markdown",
   "metadata": {},
   "source": [
    "# Exercice 1.1\n",
    "\n",
    "Écrire une fonction qui calcule et stocke dans un tableau les 100 premiers termes de la suite des entiers positifs impairs"
   ]
  },
  {
   "cell_type": "code",
   "execution_count": 6,
   "metadata": {},
   "outputs": [],
   "source": [
    "def tab():\n",
    "    impairs = []\n",
    "    i = 1\n",
    "\n",
    "    for k in range(0, 100):\n",
    "        impairs.append(i)\n",
    "        i = i + 2\n",
    "    \n",
    "    return impairs"
   ]
  },
  {
   "cell_type": "code",
   "execution_count": 7,
   "metadata": {},
   "outputs": [
    {
     "name": "stdout",
     "output_type": "stream",
     "text": [
      "[1, 3, 5, 7, 9, 11, 13, 15, 17, 19, 21, 23, 25, 27, 29, 31, 33, 35, 37, 39, 41, 43, 45, 47, 49, 51, 53, 55, 57, 59, 61, 63, 65, 67, 69, 71, 73, 75, 77, 79, 81, 83, 85, 87, 89, 91, 93, 95, 97, 99, 101, 103, 105, 107, 109, 111, 113, 115, 117, 119, 121, 123, 125, 127, 129, 131, 133, 135, 137, 139, 141, 143, 145, 147, 149, 151, 153, 155, 157, 159, 161, 163, 165, 167, 169, 171, 173, 175, 177, 179, 181, 183, 185, 187, 189, 191, 193, 195, 197, 199]\n"
     ]
    }
   ],
   "source": [
    "t = tab()\n",
    "print (t)"
   ]
  },
  {
   "cell_type": "code",
   "execution_count": 9,
   "metadata": {},
   "outputs": [],
   "source": [
    "def tab2():\n",
    "    impairs = []\n",
    "    i = 1\n",
    "\n",
    "    while i < 200:\n",
    "        impairs.append(i)\n",
    "        i = i + 2\n",
    "    \n",
    "    return impairs"
   ]
  },
  {
   "cell_type": "code",
   "execution_count": 10,
   "metadata": {},
   "outputs": [
    {
     "name": "stdout",
     "output_type": "stream",
     "text": [
      "[1, 3, 5, 7, 9, 11, 13, 15, 17, 19, 21, 23, 25, 27, 29, 31, 33, 35, 37, 39, 41, 43, 45, 47, 49, 51, 53, 55, 57, 59, 61, 63, 65, 67, 69, 71, 73, 75, 77, 79, 81, 83, 85, 87, 89, 91, 93, 95, 97, 99, 101, 103, 105, 107, 109, 111, 113, 115, 117, 119, 121, 123, 125, 127, 129, 131, 133, 135, 137, 139, 141, 143, 145, 147, 149, 151, 153, 155, 157, 159, 161, 163, 165, 167, 169, 171, 173, 175, 177, 179, 181, 183, 185, 187, 189, 191, 193, 195, 197, 199]\n"
     ]
    }
   ],
   "source": [
    "t = tab2()\n",
    "print (t)"
   ]
  },
  {
   "cell_type": "code",
   "execution_count": 11,
   "metadata": {},
   "outputs": [],
   "source": [
    "def tab3():\n",
    "    impairs = []\n",
    "\n",
    "    for i in range(1, 200, 2):\n",
    "        impairs.append(i)\n",
    "    \n",
    "    return impairs"
   ]
  },
  {
   "cell_type": "code",
   "execution_count": 12,
   "metadata": {},
   "outputs": [
    {
     "name": "stdout",
     "output_type": "stream",
     "text": [
      "[1, 3, 5, 7, 9, 11, 13, 15, 17, 19, 21, 23, 25, 27, 29, 31, 33, 35, 37, 39, 41, 43, 45, 47, 49, 51, 53, 55, 57, 59, 61, 63, 65, 67, 69, 71, 73, 75, 77, 79, 81, 83, 85, 87, 89, 91, 93, 95, 97, 99, 101, 103, 105, 107, 109, 111, 113, 115, 117, 119, 121, 123, 125, 127, 129, 131, 133, 135, 137, 139, 141, 143, 145, 147, 149, 151, 153, 155, 157, 159, 161, 163, 165, 167, 169, 171, 173, 175, 177, 179, 181, 183, 185, 187, 189, 191, 193, 195, 197, 199]\n"
     ]
    }
   ],
   "source": [
    "t = tab3()\n",
    "print (t)"
   ]
  },
  {
   "cell_type": "code",
   "execution_count": 15,
   "metadata": {},
   "outputs": [],
   "source": [
    "def tab4():\n",
    "    return [i for i in range(1, 200, 2)]"
   ]
  },
  {
   "cell_type": "code",
   "execution_count": 16,
   "metadata": {},
   "outputs": [
    {
     "name": "stdout",
     "output_type": "stream",
     "text": [
      "[1, 3, 5, 7, 9, 11, 13, 15, 17, 19, 21, 23, 25, 27, 29, 31, 33, 35, 37, 39, 41, 43, 45, 47, 49, 51, 53, 55, 57, 59, 61, 63, 65, 67, 69, 71, 73, 75, 77, 79, 81, 83, 85, 87, 89, 91, 93, 95, 97, 99, 101, 103, 105, 107, 109, 111, 113, 115, 117, 119, 121, 123, 125, 127, 129, 131, 133, 135, 137, 139, 141, 143, 145, 147, 149, 151, 153, 155, 157, 159, 161, 163, 165, 167, 169, 171, 173, 175, 177, 179, 181, 183, 185, 187, 189, 191, 193, 195, 197, 199]\n"
     ]
    }
   ],
   "source": [
    "t = tab4()\n",
    "print (t)"
   ]
  },
  {
   "cell_type": "markdown",
   "metadata": {},
   "source": [
    "# Exercice 1.2\n",
    "\n",
    "Même exercice cette fois avec les 100 premiers termes de la suite de Fibonacci :"
   ]
  },
  {
   "cell_type": "code",
   "execution_count": 22,
   "metadata": {},
   "outputs": [],
   "source": [
    "def fib():    \n",
    "    \"\"\"Retourne la liste des 100 premiers termes de Fibonacci\"\"\"\n",
    "    a, b = 0, 1\n",
    "    list_fibo = []\n",
    "    \n",
    "    while len(list_fibo) < 100:\n",
    "        list_fibo.append(b)\n",
    "        a, b = b, a+b\n",
    "\n",
    "    return list_fibo"
   ]
  },
  {
   "cell_type": "code",
   "execution_count": 23,
   "metadata": {},
   "outputs": [
    {
     "name": "stdout",
     "output_type": "stream",
     "text": [
      "[1, 1, 2, 3, 5, 8, 13, 21, 34, 55, 89, 144, 233, 377, 610, 987, 1597, 2584, 4181, 6765, 10946, 17711, 28657, 46368, 75025, 121393, 196418, 317811, 514229, 832040, 1346269, 2178309, 3524578, 5702887, 9227465, 14930352, 24157817, 39088169, 63245986, 102334155, 165580141, 267914296, 433494437, 701408733, 1134903170, 1836311903, 2971215073, 4807526976, 7778742049, 12586269025, 20365011074, 32951280099, 53316291173, 86267571272, 139583862445, 225851433717, 365435296162, 591286729879, 956722026041, 1548008755920, 2504730781961, 4052739537881, 6557470319842, 10610209857723, 17167680177565, 27777890035288, 44945570212853, 72723460248141, 117669030460994, 190392490709135, 308061521170129, 498454011879264, 806515533049393, 1304969544928657, 2111485077978050, 3416454622906707, 5527939700884757, 8944394323791464, 14472334024676221, 23416728348467685, 37889062373143906, 61305790721611591, 99194853094755497, 160500643816367088, 259695496911122585, 420196140727489673, 679891637638612258, 1100087778366101931, 1779979416004714189, 2880067194370816120, 4660046610375530309, 7540113804746346429, 12200160415121876738, 19740274219868223167, 31940434634990099905, 51680708854858323072, 83621143489848422977, 135301852344706746049, 218922995834555169026, 354224848179261915075]\n"
     ]
    }
   ],
   "source": [
    "f = fib()\n",
    "print (f)"
   ]
  },
  {
   "cell_type": "markdown",
   "metadata": {},
   "source": [
    "# Exercice 1.3\n",
    "\n",
    "Modifiez le programme précédent de sorte qu’il crée un tableau contenant les termes de la suite de Fibonacci qui sont des multiples de 7"
   ]
  },
  {
   "cell_type": "code",
   "execution_count": 24,
   "metadata": {},
   "outputs": [],
   "source": [
    "def fib_multiple7(n):    \n",
    "    \"\"\"Retourne la liste des n premiers termes de Fibonacci\n",
    "    qui sont des multiples de 7\"\"\"\n",
    "    a, b = 0, 1\n",
    "    list_fibo = []\n",
    "    \n",
    "    while len(list_fibo) < n:\n",
    "        if b % 7 == 0:\n",
    "            list_fibo.append(b)\n",
    "        a, b = b, a+b\n",
    "\n",
    "    return list_fibo"
   ]
  },
  {
   "cell_type": "code",
   "execution_count": 25,
   "metadata": {},
   "outputs": [
    {
     "name": "stdout",
     "output_type": "stream",
     "text": [
      "[21, 987, 46368, 2178309, 102334155, 4807526976, 225851433717, 10610209857723, 498454011879264, 23416728348467685]\n"
     ]
    }
   ],
   "source": [
    "f7 = fib_multiple7(10)\n",
    "print (f7)"
   ]
  },
  {
   "cell_type": "code",
   "execution_count": 3,
   "metadata": {},
   "outputs": [
    {
     "data": {
      "text/plain": [
       "list"
      ]
     },
     "execution_count": 3,
     "metadata": {},
     "output_type": "execute_result"
    }
   ],
   "source": [
    "ma_liste = []\n",
    "ma_liste.append(2)"
   ]
  },
  {
   "cell_type": "markdown",
   "metadata": {},
   "source": [
    "# Question 2.1\n",
    "Ecrire une fonction `diviseurs` qui renvoie dans un tableau la liste des diviseurs d'un entier donné"
   ]
  },
  {
   "cell_type": "code",
   "execution_count": 8,
   "metadata": {},
   "outputs": [],
   "source": [
    "def diviseurs(i):\n",
    "    \"\"\"retourne la liste des diviseurs de l'entier i\"\"\"\n",
    "    tab_div = []\n",
    "    tab_div.append(1)\n",
    "    for d in range(2, i+1):\n",
    "        if i % d == 0:\n",
    "            tab_div.append(d)\n",
    "    return tab_div"
   ]
  },
  {
   "cell_type": "code",
   "execution_count": 1,
   "metadata": {},
   "outputs": [],
   "source": [
    "def diviseurs(i):\n",
    "    \"\"\"retourne la liste des diviseurs de l'entier i\"\"\"\n",
    "    if i == 1: return []\n",
    "    tab_div = []\n",
    "    tab_div.append(1)\n",
    "    for d in range(2, i//2+1):\n",
    "        if i % d == 0:\n",
    "            tab_div.append(d)\n",
    "    tab_div.append(i)\n",
    "    return tab_div"
   ]
  },
  {
   "cell_type": "code",
   "execution_count": 9,
   "metadata": {},
   "outputs": [
    {
     "name": "stdout",
     "output_type": "stream",
     "text": [
      "diviseurs de 10:  [1, 2, 5, 10]\n",
      "diviseurs de 30:  [1, 2, 3, 5, 6, 10, 15, 30]\n",
      "diviseurs de 11:  [1, 11]\n",
      "diviseurs de 1:  [1]\n"
     ]
    }
   ],
   "source": [
    "print (\"diviseurs de 10: \", diviseurs(10))\n",
    "print (\"diviseurs de 30: \", diviseurs(30))\n",
    "print (\"diviseurs de 11: \", diviseurs(11))\n",
    "print (\"diviseurs de 1: \", diviseurs(1))"
   ]
  },
  {
   "cell_type": "code",
   "execution_count": 10,
   "metadata": {},
   "outputs": [],
   "source": [
    "def est_premier(i):\n",
    "    \"\"\"teste si l'entier i est premier\"\"\"\n",
    "    tab_div = diviseurs (i)\n",
    "    if len(tab_div) == 2: return True\n",
    "    else: return False"
   ]
  },
  {
   "cell_type": "code",
   "execution_count": 13,
   "metadata": {},
   "outputs": [],
   "source": [
    "def est_premier(i):\n",
    "    \"\"\"teste si l'entier i est premier\"\"\"\n",
    "    return len(diviseurs (i)) == 2"
   ]
  },
  {
   "cell_type": "code",
   "execution_count": 12,
   "metadata": {},
   "outputs": [
    {
     "name": "stdout",
     "output_type": "stream",
     "text": [
      "7 est premier ? True\n",
      "11 est premier ? True\n",
      "20 est premier ? False\n",
      "1 est premier ? False\n"
     ]
    }
   ],
   "source": [
    "print (\"7 est premier ?\", est_premier(7))\n",
    "print (\"11 est premier ?\", est_premier(11))\n",
    "print (\"20 est premier ?\", est_premier(20))\n",
    "print (\"1 est premier ?\", est_premier(1))"
   ]
  },
  {
   "cell_type": "code",
   "execution_count": 11,
   "metadata": {},
   "outputs": [],
   "source": [
    "def liste_premiers(n):\n",
    "    \"\"\"retourne la liste des nombres premiers strictement inférieur à n\"\"\"\n",
    "    tab_premiers = []\n",
    "    for i in range(1, n):\n",
    "        if est_premier(i): \n",
    "            tab_premiers.append(i)\n",
    "    return tab_premiers"
   ]
  },
  {
   "cell_type": "code",
   "execution_count": 15,
   "metadata": {},
   "outputs": [
    {
     "name": "stdout",
     "output_type": "stream",
     "text": [
      "[2, 3, 5, 7, 11, 13, 17, 19, 23, 29, 31, 37, 41, 43, 47, 53, 59, 61, 67, 71, 73, 79, 83, 89, 97]\n"
     ]
    }
   ],
   "source": [
    "print (liste_premiers(100))"
   ]
  },
  {
   "cell_type": "code",
   "execution_count": 17,
   "metadata": {},
   "outputs": [
    {
     "name": "stdout",
     "output_type": "stream",
     "text": [
      "299 µs ± 4.31 µs per loop (mean ± std. dev. of 7 runs, 1000 loops each)\n"
     ]
    }
   ],
   "source": [
    "%timeit liste_premiers(100)"
   ]
  },
  {
   "cell_type": "markdown",
   "metadata": {},
   "source": [
    "# Question 3"
   ]
  },
  {
   "cell_type": "code",
   "execution_count": 2,
   "metadata": {},
   "outputs": [],
   "source": [
    "def liste_parfait(n):\n",
    "    \"\"\"retourne la liste des n premiers nombres parfaits\"\"\"\n",
    "    parfait_tab = list()\n",
    "    nombre = 6\n",
    "    while len(parfait_tab) < n:\n",
    "        d = diviseurs(nombre)\n",
    "        somme = 0\n",
    "        for i in range(len(d)-1):\n",
    "            somme += d[i]\n",
    "        if somme == nombre: parfait_tab.append(nombre)\n",
    "        nombre += 1\n",
    "    return parfait_tab"
   ]
  },
  {
   "cell_type": "code",
   "execution_count": 5,
   "metadata": {},
   "outputs": [
    {
     "name": "stdout",
     "output_type": "stream",
     "text": [
      "6 : [1, 2, 3, 6]\n",
      "28 : [1, 2, 4, 7, 14, 28]\n",
      "496 : [1, 2, 4, 8, 16, 31, 62, 124, 248, 496]\n",
      "8128 : [1, 2, 4, 8, 16, 32, 64, 127, 254, 508, 1016, 2032, 4064, 8128]\n"
     ]
    }
   ],
   "source": [
    "lp = liste_parfait(4)\n",
    "for parfait in lp:\n",
    "    print (parfait, ':', diviseurs(parfait))"
   ]
  },
  {
   "cell_type": "markdown",
   "metadata": {},
   "source": [
    "# Question 4"
   ]
  },
  {
   "cell_type": "code",
   "execution_count": 9,
   "metadata": {},
   "outputs": [],
   "source": [
    "def crible(n):\n",
    "    \"\"\"retourne les n premiers nombres premiers par la méthode d'Eratosthène\"\"\"\n",
    "    premiers = list()\n",
    "    non_premiers = list()\n",
    "    for i in range (2, n+1):\n",
    "        if i in non_premiers: \n",
    "            continue\n",
    "        else:\n",
    "            premiers.append(i)\n",
    "            m = 2\n",
    "            while i * m <= n:\n",
    "                non_premiers.append(i * m)\n",
    "                m += 1\n",
    "    return premiers"
   ]
  },
  {
   "cell_type": "code",
   "execution_count": 15,
   "metadata": {},
   "outputs": [
    {
     "name": "stdout",
     "output_type": "stream",
     "text": [
      "[2, 3, 5, 7]\n",
      "[2, 3, 5, 7]\n"
     ]
    }
   ],
   "source": [
    "print (crible(10))\n",
    "print (liste_premiers(10))"
   ]
  },
  {
   "cell_type": "code",
   "execution_count": 16,
   "metadata": {},
   "outputs": [
    {
     "name": "stdout",
     "output_type": "stream",
     "text": [
      "88.1 µs ± 1.47 µs per loop (mean ± std. dev. of 7 runs, 10000 loops each)\n"
     ]
    }
   ],
   "source": [
    "%timeit crible(100)"
   ]
  },
  {
   "cell_type": "code",
   "execution_count": 17,
   "metadata": {},
   "outputs": [
    {
     "name": "stdout",
     "output_type": "stream",
     "text": [
      "194 µs ± 7.19 µs per loop (mean ± std. dev. of 7 runs, 1000 loops each)\n"
     ]
    }
   ],
   "source": [
    "%timeit liste_premiers(100)"
   ]
  },
  {
   "cell_type": "code",
   "execution_count": 8,
   "metadata": {},
   "outputs": [
    {
     "data": {
      "text/plain": [
       "True"
      ]
     },
     "execution_count": 8,
     "metadata": {},
     "output_type": "execute_result"
    }
   ],
   "source": [
    "liste = [2, 3, 5, 7, 3, 3]\n",
    "3 in liste"
   ]
  },
  {
   "cell_type": "markdown",
   "metadata": {},
   "source": [
    "utiliser une liste de nombre et un masque, soit avec des 0/1 soit avec des booléens\n",
    "Utiliser les set pour voi"
   ]
  }
 ],
 "metadata": {
  "kernelspec": {
   "display_name": "Python 3",
   "language": "python",
   "name": "python3"
  },
  "language_info": {
   "codemirror_mode": {
    "name": "ipython",
    "version": 3
   },
   "file_extension": ".py",
   "mimetype": "text/x-python",
   "name": "python",
   "nbconvert_exporter": "python",
   "pygments_lexer": "ipython3",
   "version": "3.6.9"
  }
 },
 "nbformat": 4,
 "nbformat_minor": 2
}
