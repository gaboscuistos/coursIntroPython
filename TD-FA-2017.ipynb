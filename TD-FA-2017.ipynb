{
 "cells": [
  {
   "cell_type": "markdown",
   "metadata": {},
   "source": [
    "# TD FA 2017\n",
    "\n",
    "## Question 1.1"
   ]
  },
  {
   "cell_type": "code",
   "execution_count": 3,
   "metadata": {},
   "outputs": [
    {
     "name": "stdout",
     "output_type": "stream",
     "text": [
      "1 199 100\n"
     ]
    }
   ],
   "source": [
    "def impairs():\n",
    "    '''retourne  un  tableau  avec les  100  premiers entiers positifs impairs'''\n",
    "    tab_impairs = list()\n",
    "    for x in range(0, 100):\n",
    "        tab_impairs.append(2*x + 1)\n",
    "    return tab_impairs\n",
    "\n",
    "liste_impairs = impairs()\n",
    "print (liste_impairs[0], liste_impairs[-1], len(liste_impairs))"
   ]
  },
  {
   "cell_type": "code",
   "execution_count": 4,
   "metadata": {},
   "outputs": [
    {
     "name": "stdout",
     "output_type": "stream",
     "text": [
      "1 199 100\n"
     ]
    }
   ],
   "source": [
    "def impairs2():\n",
    "    '''retourne  un  tableau  avec les  100  premiers entiers positifs impairs'''\n",
    "    res = list()\n",
    "    for i in range(1, 200, 2):\n",
    "        res.append(i)\n",
    "    return res\n",
    "\n",
    "liste_impairs = impairs2()\n",
    "print (liste_impairs[0], liste_impairs[-1], len(liste_impairs))"
   ]
  },
  {
   "cell_type": "code",
   "execution_count": 5,
   "metadata": {},
   "outputs": [
    {
     "name": "stdout",
     "output_type": "stream",
     "text": [
      "1 199 100\n"
     ]
    }
   ],
   "source": [
    "def impairs3():\n",
    "    '''retourne  un  tableau  avec les  100  premiers entiers positifs impairs'''\n",
    "    res = list()\n",
    "    x = 0\n",
    "    while x < 100:\n",
    "        res.append(2 * x + 1)\n",
    "        x = x + 1\n",
    "    return res\n",
    "\n",
    "liste_impairs = impairs3()\n",
    "print (liste_impairs[0], liste_impairs[-1], len(liste_impairs))"
   ]
  },
  {
   "cell_type": "code",
   "execution_count": 6,
   "metadata": {},
   "outputs": [
    {
     "name": "stdout",
     "output_type": "stream",
     "text": [
      "1 199 100\n"
     ]
    }
   ],
   "source": [
    "def impairs4():\n",
    "    '''retourne  un  tableau  avec les  100  premiers entiers positifs impairs'''\n",
    "    res = list()\n",
    "    x = 1\n",
    "    while len(res) <= 100:\n",
    "        res.append(x)\n",
    "        x = x + 2\n",
    "    return res\n",
    "\n",
    "liste_impairs = impairs3()\n",
    "print (liste_impairs[0], liste_impairs[-1], len(liste_impairs))"
   ]
  },
  {
   "cell_type": "code",
   "execution_count": 8,
   "metadata": {},
   "outputs": [
    {
     "name": "stdout",
     "output_type": "stream",
     "text": [
      "14.8 µs ± 154 ns per loop (mean ± std. dev. of 7 runs, 100000 loops each)\n"
     ]
    }
   ],
   "source": [
    "%timeit impairs4()"
   ]
  },
  {
   "cell_type": "code",
   "execution_count": 9,
   "metadata": {},
   "outputs": [
    {
     "name": "stdout",
     "output_type": "stream",
     "text": [
      "13.9 µs ± 166 ns per loop (mean ± std. dev. of 7 runs, 100000 loops each)\n"
     ]
    }
   ],
   "source": [
    "%timeit impairs3()"
   ]
  },
  {
   "cell_type": "code",
   "execution_count": 10,
   "metadata": {},
   "outputs": [
    {
     "name": "stdout",
     "output_type": "stream",
     "text": [
      "7.99 µs ± 116 ns per loop (mean ± std. dev. of 7 runs, 100000 loops each)\n"
     ]
    }
   ],
   "source": [
    "%timeit impairs2()"
   ]
  },
  {
   "cell_type": "markdown",
   "metadata": {},
   "source": [
    "## Question 1.2"
   ]
  },
  {
   "cell_type": "code",
   "execution_count": 18,
   "metadata": {},
   "outputs": [
    {
     "name": "stdout",
     "output_type": "stream",
     "text": [
      "1 1 354224848179261915075 100\n"
     ]
    }
   ],
   "source": [
    "def fib():    # écrit la série de Fibonacci jusqu’à n\n",
    "    \"\"\"Renvoie les 100 premiers termes de la suite de Fibonacci.\"\"\"\n",
    "    a, b = 0, 1\n",
    "    res = list()\n",
    "    while len(res) < 100:\n",
    "        res.append(b)\n",
    "        a, b = b, a+b\n",
    "    return res\n",
    "        \n",
    "list_fib = fib()\n",
    "print (list_fib[0], list_fib[1], list_fib[-1], len(list_fib))"
   ]
  },
  {
   "cell_type": "markdown",
   "metadata": {
    "collapsed": true
   },
   "source": [
    "## Question 1.3"
   ]
  },
  {
   "cell_type": "code",
   "execution_count": 3,
   "metadata": {},
   "outputs": [
    {
     "name": "stdout",
     "output_type": "stream",
     "text": [
      "21 987 69283081864224717136290077681328518273399124385204820718966040597691435587278383112277161967532530675374170857404743017623467220361778016172106855838975759985190398725 100\n"
     ]
    }
   ],
   "source": [
    "def fib_sept():    # écrit la série de Fibonacci jusqu’à n\n",
    "    \"\"\"Renvoie les 100 premiers termes de la suite de Fibonacci qui sont des multiples de 7.\"\"\"\n",
    "    a, b = 0, 1\n",
    "    res = list()\n",
    "    while len(res) < 100:\n",
    "        if b % 7 == 0:\n",
    "            res.append(b)\n",
    "        a, b = b, a+b\n",
    "    return res\n",
    "        \n",
    "list_fib = fib_sept()\n",
    "print (list_fib[0], list_fib[1], list_fib[-1], len(list_fib))"
   ]
  },
  {
   "cell_type": "markdown",
   "metadata": {},
   "source": [
    "## Question 2.1"
   ]
  },
  {
   "cell_type": "code",
   "execution_count": 19,
   "metadata": {
    "collapsed": true
   },
   "outputs": [],
   "source": [
    "def diviseurs(n):\n",
    "    '''Renvoie dans un tableau les diviseurs de n, sauf 1 et lui-même'''\n",
    "    tab = list()\n",
    "    for d in range(2, n):\n",
    "        if n % d == 0:\n",
    "            tab.append(d)\n",
    "    return tab"
   ]
  },
  {
   "cell_type": "code",
   "execution_count": 21,
   "metadata": {},
   "outputs": [
    {
     "name": "stdout",
     "output_type": "stream",
     "text": [
      "[2, 4]\n",
      "[]\n"
     ]
    }
   ],
   "source": [
    "div_8 = diviseurs(8)\n",
    "print (div_8)\n",
    "print (diviseurs(13))"
   ]
  },
  {
   "cell_type": "code",
   "execution_count": 51,
   "metadata": {
    "collapsed": true
   },
   "outputs": [],
   "source": [
    "def diviseurs2(n):\n",
    "    '''Renvoie dans un tableau les diviseurs de n, sauf 1 et lui-même'''\n",
    "    tab = list()\n",
    "    limite = n//2+1\n",
    "    for d in range(2, limite):\n",
    "        if n % d == 0:\n",
    "            tab.append(d)\n",
    "    return tab"
   ]
  },
  {
   "cell_type": "code",
   "execution_count": 8,
   "metadata": {},
   "outputs": [
    {
     "name": "stdout",
     "output_type": "stream",
     "text": [
      "[2, 4]\n",
      "[]\n"
     ]
    }
   ],
   "source": [
    "div_8 = diviseurs2(8)\n",
    "print (div_8)\n",
    "print (diviseurs2(13))"
   ]
  },
  {
   "cell_type": "markdown",
   "metadata": {},
   "source": [
    "## Question 2.2"
   ]
  },
  {
   "cell_type": "code",
   "execution_count": 25,
   "metadata": {
    "collapsed": true
   },
   "outputs": [],
   "source": [
    "def est_premier(n):\n",
    "    '''Teste si un nombre entier est premier'''\n",
    "    if len(diviseurs2(n)) == 0: \n",
    "        return True\n",
    "    else: \n",
    "        return False"
   ]
  },
  {
   "cell_type": "code",
   "execution_count": 21,
   "metadata": {
    "collapsed": true
   },
   "outputs": [],
   "source": [
    "def est_premier(n):\n",
    "    '''Teste si un nombre entier est premier'''\n",
    "    return len(diviseurs2(n)) == 0"
   ]
  },
  {
   "cell_type": "code",
   "execution_count": 27,
   "metadata": {},
   "outputs": [
    {
     "name": "stdout",
     "output_type": "stream",
     "text": [
      "False\n",
      "True\n"
     ]
    }
   ],
   "source": [
    "print (est_premier(14))\n",
    "print (est_premier(11))"
   ]
  },
  {
   "cell_type": "markdown",
   "metadata": {},
   "source": [
    "## Question 1.3"
   ]
  },
  {
   "cell_type": "code",
   "execution_count": 11,
   "metadata": {
    "collapsed": true
   },
   "outputs": [],
   "source": [
    "def liste_premiers(n):\n",
    "    '''Retourne la liste des nombres premiers inférieur à n '''\n",
    "    resultat = list()\n",
    "    for i in range(2, n):\n",
    "        if est_premier(i):\n",
    "            resultat.append(i)\n",
    "    return resultat"
   ]
  },
  {
   "cell_type": "code",
   "execution_count": 12,
   "metadata": {},
   "outputs": [
    {
     "name": "stdout",
     "output_type": "stream",
     "text": [
      "[2, 3, 5, 7, 11, 13, 17, 19, 23, 29, 31, 37, 41, 43, 47, 53, 59, 61, 67, 71, 73, 79, 83, 89, 97, 101, 103, 107, 109, 113, 127, 131, 137, 139, 149, 151, 157, 163, 167, 173, 179, 181, 191, 193, 197, 199, 211, 223, 227, 229, 233, 239, 241, 251, 257, 263, 269, 271, 277, 281, 283, 293, 307, 311, 313, 317, 331, 337, 347, 349, 353, 359, 367, 373, 379, 383, 389, 397, 401, 409, 419, 421, 431, 433, 439, 443, 449, 457, 461, 463, 467, 479, 487, 491, 499, 503, 509, 521, 523, 541, 547, 557, 563, 569, 571, 577, 587, 593, 599, 601, 607, 613, 617, 619, 631, 641, 643, 647, 653, 659, 661, 673, 677, 683, 691, 701, 709, 719, 727, 733, 739, 743, 751, 757, 761, 769, 773, 787, 797, 809, 811, 821, 823, 827, 829, 839, 853, 857, 859, 863, 877, 881, 883, 887, 907, 911, 919, 929, 937, 941, 947, 953, 967, 971, 977, 983, 991, 997]\n"
     ]
    }
   ],
   "source": [
    "print (liste_premiers(1000))"
   ]
  },
  {
   "cell_type": "code",
   "execution_count": 13,
   "metadata": {},
   "outputs": [
    {
     "name": "stdout",
     "output_type": "stream",
     "text": [
      "13 ms ± 80.9 µs per loop (mean ± std. dev. of 7 runs, 100 loops each)\n"
     ]
    }
   ],
   "source": [
    "# avec diviseurs2()\n",
    "%timeit liste_premiers(1000)"
   ]
  },
  {
   "cell_type": "code",
   "execution_count": 20,
   "metadata": {},
   "outputs": [
    {
     "name": "stdout",
     "output_type": "stream",
     "text": [
      "27 ms ± 533 µs per loop (mean ± std. dev. of 7 runs, 10 loops each)\n"
     ]
    }
   ],
   "source": [
    "# avec diviseurs()\n",
    "%timeit liste_premiers(1000)"
   ]
  },
  {
   "cell_type": "markdown",
   "metadata": {},
   "source": [
    "## Question 3"
   ]
  },
  {
   "cell_type": "code",
   "execution_count": 25,
   "metadata": {
    "collapsed": true
   },
   "outputs": [],
   "source": [
    "def est_parfait(n):\n",
    "    '''Teste si un nombre est parfait'''\n",
    "    liste_div = diviseurs2(n)\n",
    "    somme = 1\n",
    "    for i in liste_div:\n",
    "        somme += i\n",
    "    if somme == n: return True\n",
    "    else: return False"
   ]
  },
  {
   "cell_type": "code",
   "execution_count": 24,
   "metadata": {
    "collapsed": true
   },
   "outputs": [],
   "source": [
    "def est_parfait(n):\n",
    "    '''Teste si un nombre est parfait'''\n",
    "    liste_div = diviseurs2(n)\n",
    "    somme = 1\n",
    "    for i in range(len(liste_div)):\n",
    "        somme += liste_div[i]\n",
    "    if somme == n: return True\n",
    "    else: return False"
   ]
  },
  {
   "cell_type": "code",
   "execution_count": 26,
   "metadata": {},
   "outputs": [
    {
     "name": "stdout",
     "output_type": "stream",
     "text": [
      "6 est parfait :  True\n",
      "8 n'est pas parfait :  False\n"
     ]
    }
   ],
   "source": [
    "print (\"6 est parfait : \", est_parfait(6))\n",
    "print (\"8 n'est pas parfait : \", est_parfait(8))"
   ]
  },
  {
   "cell_type": "code",
   "execution_count": 52,
   "metadata": {
    "collapsed": true
   },
   "outputs": [],
   "source": [
    "def liste_parfait(n):\n",
    "    '''Renvoie la liste des n premiers nombres parfaits'''\n",
    "    resultat = list()\n",
    "    i = 4 \n",
    "    while len(resultat) < n:\n",
    "        if est_parfait(i):\n",
    "            resultat.append(i)\n",
    "        i += 1\n",
    "    return resultat"
   ]
  },
  {
   "cell_type": "code",
   "execution_count": 53,
   "metadata": {},
   "outputs": [
    {
     "data": {
      "text/plain": [
       "[6, 28, 496, 8128]"
      ]
     },
     "execution_count": 53,
     "metadata": {},
     "output_type": "execute_result"
    }
   ],
   "source": [
    "liste_parfait(4)"
   ]
  },
  {
   "cell_type": "code",
   "execution_count": 48,
   "metadata": {},
   "outputs": [],
   "source": [
    "def diviseurs(n):\n",
    "    \"\"\" Return la liste des diviseurs de n. \"\"\"\n",
    "    res = []\n",
    "    stop = n+1 // 2\n",
    "    for i in range(1,stop):\n",
    "        if n%i == 0:\n",
    "            res.append(i)\n",
    "    res.append(n)\n",
    "    return res\n",
    "\n",
    "def perfect(n,res = [],ind = 6):\n",
    "    \"\"\"\n",
    "    Return la liste des n premiers nombres parfaits.\n",
    "    Attention au test : le 5eme nombre est supérieur a 33 millions.\n",
    "    \"\"\"\n",
    "    if len(res)>=n:\n",
    "        return res\n",
    "    sm = 0\n",
    "    for i in diviseurs(ind):\n",
    "        sm+=i\n",
    "    if sm == ind*2:\n",
    "        res.append(ind)\n",
    "    ind+=1\n",
    "    return perfect(n,res,ind)\n"
   ]
  },
  {
   "cell_type": "code",
   "execution_count": 49,
   "metadata": {},
   "outputs": [
    {
     "data": {
      "text/plain": [
       "[6, 28, 496]"
      ]
     },
     "execution_count": 49,
     "metadata": {},
     "output_type": "execute_result"
    }
   ],
   "source": [
    "perfect(3)"
   ]
  },
  {
   "cell_type": "markdown",
   "metadata": {},
   "source": [
    "## Question 4"
   ]
  },
  {
   "cell_type": "code",
   "execution_count": 58,
   "metadata": {
    "collapsed": true
   },
   "outputs": [],
   "source": [
    "def crible(n):\n",
    "    '''Retourne les nombres premiers inférieurs à n\n",
    "    en utilisant la méthode du crible d'Érathosthène'''\n",
    "    tab = [i for i in range(0, n+1)]\n",
    "    res = list()\n",
    "    tab[0], tab[1] = -1, -1\n",
    "    for j in tab:\n",
    "        if j != -1: \n",
    "            res.append(j)\n",
    "        k = 2\n",
    "        while j*k <= n:\n",
    "            tab[j*k] = -1\n",
    "            k += 1\n",
    "    return res"
   ]
  },
  {
   "cell_type": "code",
   "execution_count": 59,
   "metadata": {},
   "outputs": [
    {
     "ename": "IndexError",
     "evalue": "list assignment index out of range",
     "output_type": "error",
     "traceback": [
      "\u001b[0;31m---------------------------------------------------------------------------\u001b[0m",
      "\u001b[0;31mIndexError\u001b[0m                                Traceback (most recent call last)",
      "\u001b[0;32m<ipython-input-59-67dc03678d0e>\u001b[0m in \u001b[0;36m<module>\u001b[0;34m()\u001b[0m\n\u001b[0;32m----> 1\u001b[0;31m \u001b[0mcrible\u001b[0m\u001b[0;34m(\u001b[0m\u001b[0;36m10\u001b[0m\u001b[0;34m)\u001b[0m\u001b[0;34m\u001b[0m\u001b[0m\n\u001b[0m",
      "\u001b[0;32m<ipython-input-58-96b3ae344a51>\u001b[0m in \u001b[0;36mcrible\u001b[0;34m(n)\u001b[0m\n\u001b[1;32m     10\u001b[0m         \u001b[0mk\u001b[0m \u001b[0;34m=\u001b[0m \u001b[0;36m2\u001b[0m\u001b[0;34m\u001b[0m\u001b[0m\n\u001b[1;32m     11\u001b[0m         \u001b[0;32mwhile\u001b[0m \u001b[0mj\u001b[0m\u001b[0;34m*\u001b[0m\u001b[0mk\u001b[0m \u001b[0;34m<=\u001b[0m \u001b[0mn\u001b[0m\u001b[0;34m:\u001b[0m\u001b[0;34m\u001b[0m\u001b[0m\n\u001b[0;32m---> 12\u001b[0;31m             \u001b[0mtab\u001b[0m\u001b[0;34m[\u001b[0m\u001b[0mj\u001b[0m\u001b[0;34m*\u001b[0m\u001b[0mk\u001b[0m\u001b[0;34m]\u001b[0m \u001b[0;34m=\u001b[0m \u001b[0;34m-\u001b[0m\u001b[0;36m1\u001b[0m\u001b[0;34m\u001b[0m\u001b[0m\n\u001b[0m\u001b[1;32m     13\u001b[0m             \u001b[0mk\u001b[0m \u001b[0;34m+=\u001b[0m \u001b[0;36m1\u001b[0m\u001b[0;34m\u001b[0m\u001b[0m\n\u001b[1;32m     14\u001b[0m     \u001b[0;32mreturn\u001b[0m \u001b[0mres\u001b[0m\u001b[0;34m\u001b[0m\u001b[0m\n",
      "\u001b[0;31mIndexError\u001b[0m: list assignment index out of range"
     ]
    }
   ],
   "source": [
    "crible(10)"
   ]
  },
  {
   "cell_type": "code",
   "execution_count": 63,
   "metadata": {
    "collapsed": true
   },
   "outputs": [],
   "source": [
    "def crible(n):\n",
    "    '''Retourne les nombres premiers inférieurs à n\n",
    "    en utilisant la méthode du crible d'Érathosthène'''\n",
    "    tab = [i for i in range(2, n+1)]\n",
    "    res = list()\n",
    "    for j in tab:\n",
    "        if j != -1: \n",
    "            res.append(j)\n",
    "        k = 2\n",
    "        while j*k <= n:\n",
    "            tab[j*k-2] = -1\n",
    "            k += 1\n",
    "    return res"
   ]
  },
  {
   "cell_type": "code",
   "execution_count": 64,
   "metadata": {},
   "outputs": [
    {
     "ename": "IndexError",
     "evalue": "list assignment index out of range",
     "output_type": "error",
     "traceback": [
      "\u001b[0;31m---------------------------------------------------------------------------\u001b[0m",
      "\u001b[0;31mIndexError\u001b[0m                                Traceback (most recent call last)",
      "\u001b[0;32m<ipython-input-64-67dc03678d0e>\u001b[0m in \u001b[0;36m<module>\u001b[0;34m()\u001b[0m\n\u001b[0;32m----> 1\u001b[0;31m \u001b[0mcrible\u001b[0m\u001b[0;34m(\u001b[0m\u001b[0;36m10\u001b[0m\u001b[0;34m)\u001b[0m\u001b[0;34m\u001b[0m\u001b[0m\n\u001b[0m",
      "\u001b[0;32m<ipython-input-63-06f194626e8d>\u001b[0m in \u001b[0;36mcrible\u001b[0;34m(n)\u001b[0m\n\u001b[1;32m      9\u001b[0m         \u001b[0mk\u001b[0m \u001b[0;34m=\u001b[0m \u001b[0;36m2\u001b[0m\u001b[0;34m\u001b[0m\u001b[0m\n\u001b[1;32m     10\u001b[0m         \u001b[0;32mwhile\u001b[0m \u001b[0mj\u001b[0m\u001b[0;34m*\u001b[0m\u001b[0mk\u001b[0m \u001b[0;34m<\u001b[0m \u001b[0mn\u001b[0m\u001b[0;34m:\u001b[0m\u001b[0;34m\u001b[0m\u001b[0m\n\u001b[0;32m---> 11\u001b[0;31m             \u001b[0mtab\u001b[0m\u001b[0;34m[\u001b[0m\u001b[0mj\u001b[0m\u001b[0;34m*\u001b[0m\u001b[0mk\u001b[0m\u001b[0;34m-\u001b[0m\u001b[0;36m2\u001b[0m\u001b[0;34m]\u001b[0m \u001b[0;34m=\u001b[0m \u001b[0;34m-\u001b[0m\u001b[0;36m1\u001b[0m\u001b[0;34m\u001b[0m\u001b[0m\n\u001b[0m\u001b[1;32m     12\u001b[0m             \u001b[0mk\u001b[0m \u001b[0;34m+=\u001b[0m \u001b[0;36m1\u001b[0m\u001b[0;34m\u001b[0m\u001b[0m\n\u001b[1;32m     13\u001b[0m     \u001b[0;32mreturn\u001b[0m \u001b[0mres\u001b[0m\u001b[0;34m\u001b[0m\u001b[0m\n",
      "\u001b[0;31mIndexError\u001b[0m: list assignment index out of range"
     ]
    }
   ],
   "source": [
    "crible(10)"
   ]
  },
  {
   "cell_type": "code",
   "execution_count": null,
   "metadata": {
    "collapsed": true
   },
   "outputs": [],
   "source": []
  }
 ],
 "metadata": {
  "kernelspec": {
   "display_name": "Python 3",
   "language": "python",
   "name": "python3"
  },
  "language_info": {
   "codemirror_mode": {
    "name": "ipython",
    "version": 3
   },
   "file_extension": ".py",
   "mimetype": "text/x-python",
   "name": "python",
   "nbconvert_exporter": "python",
   "pygments_lexer": "ipython3",
   "version": "3.6.2"
  }
 },
 "nbformat": 4,
 "nbformat_minor": 2
}
