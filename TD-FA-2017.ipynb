{
 "cells": [
  {
   "cell_type": "markdown",
   "metadata": {},
   "source": [
    "# TD FA 2017\n",
    "\n",
    "## Question 1.1"
   ]
  },
  {
   "cell_type": "code",
   "execution_count": 2,
   "metadata": {},
   "outputs": [
    {
     "name": "stdout",
     "output_type": "stream",
     "text": [
      "1 199 100\n"
     ]
    }
   ],
   "source": [
    "def impairs():\n",
    "    '''retourne  un  tableau  avec les  100  premiers entiers positifs impairs'''\n",
    "    tab_impairs = list()\n",
    "    for x in range(0, 100):\n",
    "        tab_impairs.append(2*x + 1)\n",
    "    return tab_impairs\n",
    "\n",
    "liste_impairs = impairs()\n",
    "print (liste_impairs[0], liste_impairs[-1], len(liste_impairs))"
   ]
  },
  {
   "cell_type": "code",
   "execution_count": 5,
   "metadata": {},
   "outputs": [
    {
     "name": "stdout",
     "output_type": "stream",
     "text": [
      "1 199 100\n"
     ]
    }
   ],
   "source": [
    "def impairs2():\n",
    "    '''retourne  un  tableau  avec les  100  premiers entiers positifs impairs'''\n",
    "    res = list()\n",
    "    for i in range(1, 200, 2):\n",
    "        res.append(i)\n",
    "    return res\n",
    "\n",
    "liste_impairs = impairs2()\n",
    "print (liste_impairs[0], liste_impairs[-1], len(liste_impairs))"
   ]
  },
  {
   "cell_type": "code",
   "execution_count": 6,
   "metadata": {},
   "outputs": [
    {
     "name": "stdout",
     "output_type": "stream",
     "text": [
      "1 199 100\n"
     ]
    }
   ],
   "source": [
    "def impairs3():\n",
    "    '''retourne  un  tableau  avec les  100  premiers entiers positifs impairs'''\n",
    "    res = list()\n",
    "    x = 0\n",
    "    while x < 100:\n",
    "        res.append(2 * x + 1)\n",
    "        x = x + 1\n",
    "    return res\n",
    "\n",
    "liste_impairs = impairs3()\n",
    "print (liste_impairs[0], liste_impairs[-1], len(liste_impairs))"
   ]
  },
  {
   "cell_type": "code",
   "execution_count": 7,
   "metadata": {},
   "outputs": [
    {
     "name": "stdout",
     "output_type": "stream",
     "text": [
      "1 199 100\n"
     ]
    }
   ],
   "source": [
    "def impairs4():\n",
    "    '''retourne  un  tableau  avec les  100  premiers entiers positifs impairs'''\n",
    "    res = list()\n",
    "    x = 1\n",
    "    while len(res) <= 100:\n",
    "        res.append(x)\n",
    "        x = x + 2\n",
    "    return res\n",
    "\n",
    "liste_impairs = impairs3()\n",
    "print (liste_impairs[0], liste_impairs[-1], len(liste_impairs))"
   ]
  },
  {
   "cell_type": "code",
   "execution_count": 8,
   "metadata": {},
   "outputs": [
    {
     "name": "stdout",
     "output_type": "stream",
     "text": [
      "14.8 µs ± 154 ns per loop (mean ± std. dev. of 7 runs, 100000 loops each)\n"
     ]
    }
   ],
   "source": [
    "%timeit impairs4()"
   ]
  },
  {
   "cell_type": "code",
   "execution_count": 9,
   "metadata": {},
   "outputs": [
    {
     "name": "stdout",
     "output_type": "stream",
     "text": [
      "13.9 µs ± 166 ns per loop (mean ± std. dev. of 7 runs, 100000 loops each)\n"
     ]
    }
   ],
   "source": [
    "%timeit impairs3()"
   ]
  },
  {
   "cell_type": "code",
   "execution_count": 10,
   "metadata": {},
   "outputs": [
    {
     "name": "stdout",
     "output_type": "stream",
     "text": [
      "7.99 µs ± 116 ns per loop (mean ± std. dev. of 7 runs, 100000 loops each)\n"
     ]
    }
   ],
   "source": [
    "%timeit impairs2()"
   ]
  },
  {
   "cell_type": "markdown",
   "metadata": {},
   "source": [
    "## Question 1.2"
   ]
  },
  {
   "cell_type": "code",
   "execution_count": 18,
   "metadata": {},
   "outputs": [
    {
     "name": "stdout",
     "output_type": "stream",
     "text": [
      "1 1 354224848179261915075 100\n"
     ]
    }
   ],
   "source": [
    "def fib():    # écrit la série de Fibonacci jusqu’à n\n",
    "    \"\"\"Renvoie les 100 premiers termes de la suite de Fibonacci.\"\"\"\n",
    "    a, b = 0, 1\n",
    "    res = list()\n",
    "    while len(res) < 100:\n",
    "        res.append(b)\n",
    "        a, b = b, a+b\n",
    "    return res\n",
    "        \n",
    "list_fib = fib()\n",
    "print (list_fib[0], list_fib[1], list_fib[-1], len(list_fib))"
   ]
  },
  {
   "cell_type": "markdown",
   "metadata": {
    "collapsed": true
   },
   "source": [
    "## Question 1.3"
   ]
  },
  {
   "cell_type": "code",
   "execution_count": 3,
   "metadata": {},
   "outputs": [
    {
     "name": "stdout",
     "output_type": "stream",
     "text": [
      "21 987 69283081864224717136290077681328518273399124385204820718966040597691435587278383112277161967532530675374170857404743017623467220361778016172106855838975759985190398725 100\n"
     ]
    }
   ],
   "source": [
    "def fib_sept():    # écrit la série de Fibonacci jusqu’à n\n",
    "    \"\"\"Renvoie les 100 premiers termes de la suite de Fibonacci qui sont des multiples de 7.\"\"\"\n",
    "    a, b = 0, 1\n",
    "    res = list()\n",
    "    while len(res) < 100:\n",
    "        if b % 7 == 0:\n",
    "            res.append(b)\n",
    "        a, b = b, a+b\n",
    "    return res\n",
    "        \n",
    "list_fib = fib_sept()\n",
    "print (list_fib[0], list_fib[1], list_fib[-1], len(list_fib))"
   ]
  },
  {
   "cell_type": "markdown",
   "metadata": {},
   "source": [
    "## Question 2.1"
   ]
  },
  {
   "cell_type": "code",
   "execution_count": 20,
   "metadata": {},
   "outputs": [],
   "source": [
    "def diviseurs(n):\n",
    "    '''Renvoie dans un tableau les diviseurs de n, sauf 1 et lui-même'''\n",
    "    tab = list()\n",
    "    for d in range(2, n):\n",
    "        if n % d == 0:\n",
    "            tab.append(d)\n",
    "    return tab"
   ]
  },
  {
   "cell_type": "code",
   "execution_count": 21,
   "metadata": {},
   "outputs": [
    {
     "name": "stdout",
     "output_type": "stream",
     "text": [
      "[2, 4]\n",
      "[]\n"
     ]
    }
   ],
   "source": [
    "div_8 = diviseurs(8)\n",
    "print (div_8)\n",
    "print (diviseurs(13))"
   ]
  },
  {
   "cell_type": "code",
   "execution_count": 23,
   "metadata": {
    "collapsed": true
   },
   "outputs": [],
   "source": [
    "def diviseurs2(n):\n",
    "    '''Renvoie dans un tableau les diviseurs de n, sauf 1 et lui-même'''\n",
    "    tab = list()\n",
    "    limite = n//2+1\n",
    "    for d in range(2, limite):\n",
    "        if n % d == 0:\n",
    "            tab.append(d)\n",
    "    return tab"
   ]
  },
  {
   "cell_type": "code",
   "execution_count": 24,
   "metadata": {},
   "outputs": [
    {
     "name": "stdout",
     "output_type": "stream",
     "text": [
      "[2, 4]\n",
      "[]\n"
     ]
    }
   ],
   "source": [
    "div_8 = diviseurs2(8)\n",
    "print (div_8)\n",
    "print (diviseurs2(13))"
   ]
  },
  {
   "cell_type": "markdown",
   "metadata": {},
   "source": [
    "## Question 2.2"
   ]
  },
  {
   "cell_type": "code",
   "execution_count": 25,
   "metadata": {
    "collapsed": true
   },
   "outputs": [],
   "source": [
    "def est_premier(n):\n",
    "    '''Teste si un nombre entier est premier'''\n",
    "    if len(diviseurs2(n)) == 0: \n",
    "        return True\n",
    "    else: \n",
    "        return False"
   ]
  },
  {
   "cell_type": "code",
   "execution_count": 26,
   "metadata": {
    "collapsed": true
   },
   "outputs": [],
   "source": [
    "def est_premier(n):\n",
    "    '''Teste si un nombre entier est premier'''\n",
    "    return len(diviseurs2(n)) == 0"
   ]
  },
  {
   "cell_type": "code",
   "execution_count": 27,
   "metadata": {},
   "outputs": [
    {
     "name": "stdout",
     "output_type": "stream",
     "text": [
      "False\n",
      "True\n"
     ]
    }
   ],
   "source": [
    "print (est_premier(14))\n",
    "print (est_premier(11))"
   ]
  },
  {
   "cell_type": "markdown",
   "metadata": {},
   "source": [
    "## Question 1.3"
   ]
  },
  {
   "cell_type": "code",
   "execution_count": 28,
   "metadata": {
    "collapsed": true
   },
   "outputs": [],
   "source": [
    "def liste_premiers(n):\n",
    "    '''retourne la liste des nombres premiers inférieur à n '''\n",
    "    resultat = list()\n",
    "    for i in range(2, n):\n",
    "        if est_premier(i):\n",
    "            resultat.append(i)\n",
    "    return resultat"
   ]
  },
  {
   "cell_type": "code",
   "execution_count": null,
   "metadata": {},
   "outputs": [],
   "source": [
    "print (liste_premiers(10000000))"
   ]
  },
  {
   "cell_type": "code",
   "execution_count": null,
   "metadata": {
    "collapsed": true
   },
   "outputs": [],
   "source": []
  }
 ],
 "metadata": {
  "kernelspec": {
   "display_name": "Python 3",
   "language": "python",
   "name": "python3"
  },
  "language_info": {
   "codemirror_mode": {
    "name": "ipython",
    "version": 3
   },
   "file_extension": ".py",
   "mimetype": "text/x-python",
   "name": "python",
   "nbconvert_exporter": "python",
   "pygments_lexer": "ipython3",
   "version": "3.6.2"
  }
 },
 "nbformat": 4,
 "nbformat_minor": 2
}
