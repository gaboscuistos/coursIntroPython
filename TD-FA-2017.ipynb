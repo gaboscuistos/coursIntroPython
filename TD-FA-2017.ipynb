{
 "cells": [
  {
   "cell_type": "markdown",
   "metadata": {},
   "source": [
    "# TD FA 2017\n",
    "\n",
    "## Question 1.1"
   ]
  },
  {
   "cell_type": "code",
   "execution_count": 2,
   "metadata": {},
   "outputs": [
    {
     "name": "stdout",
     "output_type": "stream",
     "text": [
      "1 199 100\n"
     ]
    }
   ],
   "source": [
    "def impairs():\n",
    "    '''retourne  un  tableau  avec les  100  premiers entiers positifs impairs'''\n",
    "    tab_impairs = list()\n",
    "    for x in range(0, 100):\n",
    "        tab_impairs.append(2*x + 1)\n",
    "    return tab_impairs\n",
    "\n",
    "liste_impairs = impairs()\n",
    "print (liste_impairs[0], liste_impairs[-1], len(liste_impairs))"
   ]
  },
  {
   "cell_type": "code",
   "execution_count": 5,
   "metadata": {},
   "outputs": [
    {
     "name": "stdout",
     "output_type": "stream",
     "text": [
      "1 199 100\n"
     ]
    }
   ],
   "source": [
    "def impairs2():\n",
    "    '''retourne  un  tableau  avec les  100  premiers entiers positifs impairs'''\n",
    "    res = list()\n",
    "    for i in range(1, 200, 2):\n",
    "        res.append(i)\n",
    "    return res\n",
    "\n",
    "liste_impairs = impairs2()\n",
    "print (liste_impairs[0], liste_impairs[-1], len(liste_impairs))"
   ]
  },
  {
   "cell_type": "code",
   "execution_count": 6,
   "metadata": {},
   "outputs": [
    {
     "name": "stdout",
     "output_type": "stream",
     "text": [
      "1 199 100\n"
     ]
    }
   ],
   "source": [
    "def impairs3():\n",
    "    '''retourne  un  tableau  avec les  100  premiers entiers positifs impairs'''\n",
    "    res = list()\n",
    "    x = 0\n",
    "    while x < 100:\n",
    "        res.append(2 * x + 1)\n",
    "        x = x + 1\n",
    "    return res\n",
    "\n",
    "liste_impairs = impairs3()\n",
    "print (liste_impairs[0], liste_impairs[-1], len(liste_impairs))"
   ]
  },
  {
   "cell_type": "code",
   "execution_count": 7,
   "metadata": {},
   "outputs": [
    {
     "name": "stdout",
     "output_type": "stream",
     "text": [
      "1 199 100\n"
     ]
    }
   ],
   "source": [
    "def impairs4():\n",
    "    '''retourne  un  tableau  avec les  100  premiers entiers positifs impairs'''\n",
    "    res = list()\n",
    "    x = 1\n",
    "    while len(res) <= 100:\n",
    "        res.append(x)\n",
    "        x = x + 2\n",
    "    return res\n",
    "\n",
    "liste_impairs = impairs3()\n",
    "print (liste_impairs[0], liste_impairs[-1], len(liste_impairs))"
   ]
  },
  {
   "cell_type": "code",
   "execution_count": 8,
   "metadata": {},
   "outputs": [
    {
     "name": "stdout",
     "output_type": "stream",
     "text": [
      "14.8 µs ± 154 ns per loop (mean ± std. dev. of 7 runs, 100000 loops each)\n"
     ]
    }
   ],
   "source": [
    "%timeit impairs4()"
   ]
  },
  {
   "cell_type": "code",
   "execution_count": 9,
   "metadata": {},
   "outputs": [
    {
     "name": "stdout",
     "output_type": "stream",
     "text": [
      "13.9 µs ± 166 ns per loop (mean ± std. dev. of 7 runs, 100000 loops each)\n"
     ]
    }
   ],
   "source": [
    "%timeit impairs3()"
   ]
  },
  {
   "cell_type": "code",
   "execution_count": 10,
   "metadata": {},
   "outputs": [
    {
     "name": "stdout",
     "output_type": "stream",
     "text": [
      "7.99 µs ± 116 ns per loop (mean ± std. dev. of 7 runs, 100000 loops each)\n"
     ]
    }
   ],
   "source": [
    "%timeit impairs2()"
   ]
  },
  {
   "cell_type": "markdown",
   "metadata": {},
   "source": [
    "## Question 1.2"
   ]
  },
  {
   "cell_type": "code",
   "execution_count": 18,
   "metadata": {},
   "outputs": [
    {
     "name": "stdout",
     "output_type": "stream",
     "text": [
      "1 1 354224848179261915075 100\n"
     ]
    }
   ],
   "source": [
    "def fib():    # écrit la série de Fibonacci jusqu’à n\n",
    "    \"\"\"Renvoie les 100 premiers termes de la suite de Fibonacci.\"\"\"\n",
    "    a, b = 0, 1\n",
    "    res = list()\n",
    "    while len(res) < 100:\n",
    "        res.append(b)\n",
    "        a, b = b, a+b\n",
    "    return res\n",
    "        \n",
    "list_fib = fib()\n",
    "print (list_fib[0], list_fib[1], list_fib[-1], len(list_fib))"
   ]
  },
  {
   "cell_type": "code",
   "execution_count": null,
   "metadata": {
    "collapsed": true
   },
   "outputs": [],
   "source": []
  }
 ],
 "metadata": {
  "kernelspec": {
   "display_name": "Python 3",
   "language": "python",
   "name": "python3"
  },
  "language_info": {
   "codemirror_mode": {
    "name": "ipython",
    "version": 3
   },
   "file_extension": ".py",
   "mimetype": "text/x-python",
   "name": "python",
   "nbconvert_exporter": "python",
   "pygments_lexer": "ipython3",
   "version": "3.6.2"
  }
 },
 "nbformat": 4,
 "nbformat_minor": 2
}
