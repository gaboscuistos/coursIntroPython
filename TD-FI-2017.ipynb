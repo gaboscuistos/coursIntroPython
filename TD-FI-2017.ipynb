{
 "cells": [
  {
   "cell_type": "markdown",
   "metadata": {},
   "source": [
    "# TD FI\n",
    "\n",
    "Exercices fait en cours"
   ]
  },
  {
   "cell_type": "markdown",
   "metadata": {},
   "source": [
    "## Question 1"
   ]
  },
  {
   "cell_type": "code",
   "execution_count": 5,
   "metadata": {
    "collapsed": true
   },
   "outputs": [],
   "source": [
    "def impairs():\n",
    "    liste_impairs = list()\n",
    "    for i in range(0, 200):\n",
    "        if i % 2 != 0:\n",
    "            liste_impairs.append(i)\n",
    "    return liste_impairs"
   ]
  },
  {
   "cell_type": "code",
   "execution_count": 6,
   "metadata": {},
   "outputs": [
    {
     "name": "stdout",
     "output_type": "stream",
     "text": [
      "[1, 3, 5, 7, 9, 11, 13, 15, 17, 19, 21, 23, 25, 27, 29, 31, 33, 35, 37, 39, 41, 43, 45, 47, 49, 51, 53, 55, 57, 59, 61, 63, 65, 67, 69, 71, 73, 75, 77, 79, 81, 83, 85, 87, 89, 91, 93, 95, 97, 99, 101, 103, 105, 107, 109, 111, 113, 115, 117, 119, 121, 123, 125, 127, 129, 131, 133, 135, 137, 139, 141, 143, 145, 147, 149, 151, 153, 155, 157, 159, 161, 163, 165, 167, 169, 171, 173, 175, 177, 179, 181, 183, 185, 187, 189, 191, 193, 195, 197, 199]\n"
     ]
    },
    {
     "data": {
      "text/plain": [
       "100"
      ]
     },
     "execution_count": 6,
     "metadata": {},
     "output_type": "execute_result"
    }
   ],
   "source": [
    "ma_liste =  impairs()\n",
    "print (ma_liste)\n",
    "\n",
    "len(ma_liste)"
   ]
  },
  {
   "cell_type": "code",
   "execution_count": 8,
   "metadata": {
    "collapsed": true
   },
   "outputs": [],
   "source": [
    "def impairs():\n",
    "    liste_impairs = list()\n",
    "    i = 0\n",
    "    while len(liste_impairs) < 100:\n",
    "        if i % 2 != 0:\n",
    "            liste_impairs.append(i)\n",
    "        i = i + 1 # ou i += 1\n",
    "    return liste_impairs"
   ]
  },
  {
   "cell_type": "code",
   "execution_count": 10,
   "metadata": {},
   "outputs": [
    {
     "name": "stdout",
     "output_type": "stream",
     "text": [
      "100 1 199\n"
     ]
    }
   ],
   "source": [
    "ma_liste =  impairs()\n",
    "print (len(ma_liste), ma_liste[0], ma_liste[-1])"
   ]
  },
  {
   "cell_type": "markdown",
   "metadata": {},
   "source": [
    "## question 1.2"
   ]
  },
  {
   "cell_type": "code",
   "execution_count": 20,
   "metadata": {
    "collapsed": true
   },
   "outputs": [],
   "source": [
    "def fibonacci():\n",
    "    a, b = 0, 1\n",
    "    list_fibo = list()\n",
    "    while len(list_fibo) < 100:\n",
    "        list_fibo.append(b)\n",
    "        a, b = b, a + b\n",
    "    return list_fibo"
   ]
  },
  {
   "cell_type": "code",
   "execution_count": 23,
   "metadata": {},
   "outputs": [
    {
     "name": "stdout",
     "output_type": "stream",
     "text": [
      "100 1 1\n"
     ]
    }
   ],
   "source": [
    "ma_liste = fibonacci()\n",
    "print(len(ma_liste), ma_liste[0], ma_liste[1])"
   ]
  },
  {
   "cell_type": "markdown",
   "metadata": {},
   "source": [
    "## Question 1.3"
   ]
  },
  {
   "cell_type": "code",
   "execution_count": 1,
   "metadata": {
    "collapsed": true
   },
   "outputs": [],
   "source": [
    "def fibonacci2():\n",
    "    a, b = 0, 1\n",
    "    list_fibo = list()\n",
    "    while len(list_fibo) < 100:\n",
    "        if b % 7 == 0:\n",
    "            list_fibo.append(b)\n",
    "        a, b = b, a + b\n",
    "    return list_fibo"
   ]
  },
  {
   "cell_type": "code",
   "execution_count": 3,
   "metadata": {},
   "outputs": [
    {
     "name": "stdout",
     "output_type": "stream",
     "text": [
      "100 21 69283081864224717136290077681328518273399124385204820718966040597691435587278383112277161967532530675374170857404743017623467220361778016172106855838975759985190398725\n"
     ]
    }
   ],
   "source": [
    "ma_liste = fibonacci2()\n",
    "print(len(ma_liste), ma_liste[0], ma_liste[-1])"
   ]
  },
  {
   "cell_type": "markdown",
   "metadata": {},
   "source": [
    "## Question 2.1"
   ]
  },
  {
   "cell_type": "code",
   "execution_count": 21,
   "metadata": {
    "collapsed": true
   },
   "outputs": [],
   "source": [
    "def diviseurs(d):\n",
    "    '''Renvoie dans un tableau la liste des diviseurs d’un entier d'''\n",
    "    if type(d) != int:\n",
    "        raise TypeError('d should be an int')\n",
    "    t = list()\n",
    "    for div in range(1, d+1):\n",
    "        if d % div == 0:\n",
    "            t.append(div)\n",
    "    return t"
   ]
  },
  {
   "cell_type": "code",
   "execution_count": 24,
   "metadata": {},
   "outputs": [
    {
     "name": "stdout",
     "output_type": "stream",
     "text": [
      "[1, 2, 4, 8]\n",
      "[1, 17]\n",
      "[1, 19]\n",
      "hello\n"
     ]
    }
   ],
   "source": [
    "toto = diviseurs(8)\n",
    "print (toto)\n",
    "premier = diviseurs(17)\n",
    "print (premier)\n",
    "print (diviseurs(19))\n",
    "try:\n",
    "    diviseurs(10.01)\n",
    "except TypeError:\n",
    "    pass\n",
    "print ('hello')"
   ]
  },
  {
   "cell_type": "markdown",
   "metadata": {},
   "source": [
    "## Question 2.2"
   ]
  },
  {
   "cell_type": "code",
   "execution_count": 25,
   "metadata": {
    "collapsed": true
   },
   "outputs": [],
   "source": [
    "def est_premier(n):\n",
    "    '''Teste si un entier est premier'''\n",
    "    liste_diviseurs = diviseurs(n)\n",
    "    if len(liste_diviseurs) == 2: return True\n",
    "    else: return False"
   ]
  },
  {
   "cell_type": "code",
   "execution_count": 26,
   "metadata": {},
   "outputs": [
    {
     "name": "stdout",
     "output_type": "stream",
     "text": [
      "False\n",
      "True\n"
     ]
    }
   ],
   "source": [
    "print(est_premier(8))\n",
    "print(est_premier(11))"
   ]
  },
  {
   "cell_type": "code",
   "execution_count": null,
   "metadata": {
    "collapsed": true
   },
   "outputs": [],
   "source": []
  }
 ],
 "metadata": {
  "kernelspec": {
   "display_name": "Python 3",
   "language": "python",
   "name": "python3"
  },
  "language_info": {
   "codemirror_mode": {
    "name": "ipython",
    "version": 3
   },
   "file_extension": ".py",
   "mimetype": "text/x-python",
   "name": "python",
   "nbconvert_exporter": "python",
   "pygments_lexer": "ipython3",
   "version": "3.6.2"
  }
 },
 "nbformat": 4,
 "nbformat_minor": 2
}
