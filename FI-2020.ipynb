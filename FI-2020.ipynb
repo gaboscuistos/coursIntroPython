{
 "cells": [
  {
   "cell_type": "markdown",
   "metadata": {},
   "source": [
    "# TD 1 - FI\n",
    "\n",
    "Explication sur la \"list comprehension\" : "
   ]
  },
  {
   "cell_type": "code",
   "execution_count": 9,
   "metadata": {},
   "outputs": [
    {
     "name": "stdout",
     "output_type": "stream",
     "text": [
      "[20, 40, 50]\n"
     ]
    }
   ],
   "source": [
    "mes_entiers = [2, 4, 5, 6] \n",
    "\n",
    "nouvelle_liste = [i*10 for i in mes_entiers if i <= 5]\n",
    "\n",
    "print (nouvelle_liste)"
   ]
  },
  {
   "cell_type": "markdown",
   "metadata": {},
   "source": [
    "est équivalent à"
   ]
  },
  {
   "cell_type": "code",
   "execution_count": 10,
   "metadata": {},
   "outputs": [
    {
     "name": "stdout",
     "output_type": "stream",
     "text": [
      "[20, 40, 50]\n"
     ]
    }
   ],
   "source": [
    "mes_entiers = [2, 4, 5, 6] \n",
    "\n",
    "nouvelle_liste = []\n",
    "for i in mes_entiers:\n",
    "    if i <= 5:\n",
    "        nouvelle_liste.append(i*10)\n",
    "print (nouvelle_liste)"
   ]
  },
  {
   "cell_type": "markdown",
   "metadata": {},
   "source": [
    "# Question 1.1"
   ]
  },
  {
   "cell_type": "code",
   "execution_count": 18,
   "metadata": {},
   "outputs": [
    {
     "data": {
      "text/plain": [
       "100"
      ]
     },
     "execution_count": 18,
     "metadata": {},
     "output_type": "execute_result"
    }
   ],
   "source": [
    "def impairs():\n",
    "    liste_impairs = []\n",
    "    for i in range(1, 200, 2):\n",
    "        liste_impairs.append(i)\n",
    "    return liste_impairs\n",
    "\n",
    "liste_entiers = impairs()\n",
    "len(liste_entiers)"
   ]
  },
  {
   "cell_type": "code",
   "execution_count": 17,
   "metadata": {},
   "outputs": [
    {
     "name": "stdout",
     "output_type": "stream",
     "text": [
      "100 199\n"
     ]
    }
   ],
   "source": [
    "def impairs_while():\n",
    "    liste_impairs = []\n",
    "    i = 1\n",
    "    while len(liste_impairs) < 100 :\n",
    "        liste_impairs.append(i)\n",
    "        i = i + 2\n",
    "    return liste_impairs\n",
    "\n",
    "liste_entiers = impairs_while()\n",
    "print (len(liste_entiers), liste_entiers[-1])"
   ]
  },
  {
   "cell_type": "markdown",
   "metadata": {},
   "source": [
    "# Question 1.2"
   ]
  },
  {
   "cell_type": "code",
   "execution_count": 31,
   "metadata": {},
   "outputs": [
    {
     "name": "stdout",
     "output_type": "stream",
     "text": [
      "100 354224848179261915075\n"
     ]
    }
   ],
   "source": [
    "def fibo():\n",
    "    liste_fibo = []\n",
    "    a, b = 0, 1\n",
    "    while len(liste_fibo) < 100:\n",
    "        liste_fibo.append(b)\n",
    "        a, b = b, a+b\n",
    "    return liste_fibo\n",
    "\n",
    "fib = fibo()\n",
    "print(len(fib), fib[-1])"
   ]
  },
  {
   "cell_type": "markdown",
   "metadata": {},
   "source": [
    "# Question 1.3"
   ]
  },
  {
   "cell_type": "code",
   "execution_count": 35,
   "metadata": {},
   "outputs": [
    {
     "data": {
      "text/plain": [
       "(2, 1)"
      ]
     },
     "execution_count": 35,
     "metadata": {},
     "output_type": "execute_result"
    }
   ],
   "source": [
    "15 // 7, 15 % 7"
   ]
  },
  {
   "cell_type": "code",
   "execution_count": 37,
   "metadata": {},
   "outputs": [
    {
     "name": "stdout",
     "output_type": "stream",
     "text": [
      "100 [21, 987, 46368, 2178309, 102334155, 4807526976, 225851433717, 10610209857723, 498454011879264, 23416728348467685] 69283081864224717136290077681328518273399124385204820718966040597691435587278383112277161967532530675374170857404743017623467220361778016172106855838975759985190398725\n"
     ]
    }
   ],
   "source": [
    "def fibo_sept():\n",
    "    liste_fibo = []\n",
    "    a, b = 0, 1\n",
    "    while len(liste_fibo) < 100:\n",
    "        if b % 7 == 0:\n",
    "            liste_fibo.append(b)\n",
    "        a, b = b, a+b\n",
    "    return liste_fibo\n",
    "\n",
    "fib = fibo_sept()\n",
    "print(len(fib), fib[:10], fib[-1])"
   ]
  },
  {
   "cell_type": "code",
   "execution_count": 43,
   "metadata": {},
   "outputs": [
    {
     "data": {
      "text/plain": [
       "9223372036854775808"
      ]
     },
     "execution_count": 43,
     "metadata": {},
     "output_type": "execute_result"
    }
   ],
   "source": [
    "2**64//2"
   ]
  },
  {
   "cell_type": "code",
   "execution_count": 50,
   "metadata": {},
   "outputs": [
    {
     "data": {
      "text/plain": [
       "[21,\n",
       " 987,\n",
       " 46368,\n",
       " 2178309,\n",
       " 102334155,\n",
       " 4807526976,\n",
       " 225851433717,\n",
       " 10610209857723,\n",
       " 498454011879264,\n",
       " 23416728348467685,\n",
       " 1100087778366101931,\n",
       " 51680708854858323072]"
      ]
     },
     "execution_count": 50,
     "metadata": {},
     "output_type": "execute_result"
    }
   ],
   "source": [
    "def multiple7(liste):\n",
    "    liste_multiple7 = []\n",
    "    for numbers in liste:\n",
    "        if numbers % 7 == 0 :\n",
    "            liste_multiple7.append(numbers)\n",
    "    return liste_multiple7\n",
    "\n",
    "liste = fibo()\n",
    "multiple7(liste) # équivalent à [i for i in liste if i % 7 == 0]"
   ]
  },
  {
   "cell_type": "code",
   "execution_count": null,
   "metadata": {},
   "outputs": [],
   "source": []
  }
 ],
 "metadata": {
  "kernelspec": {
   "display_name": "Python 3",
   "language": "python",
   "name": "python3"
  },
  "language_info": {
   "codemirror_mode": {
    "name": "ipython",
    "version": 3
   },
   "file_extension": ".py",
   "mimetype": "text/x-python",
   "name": "python",
   "nbconvert_exporter": "python",
   "pygments_lexer": "ipython3",
   "version": "3.6.10"
  }
 },
 "nbformat": 4,
 "nbformat_minor": 4
}
