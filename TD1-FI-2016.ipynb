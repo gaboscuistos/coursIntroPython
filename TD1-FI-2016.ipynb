{
 "cells": [
  {
   "cell_type": "code",
   "execution_count": 3,
   "metadata": {
    "collapsed": true
   },
   "outputs": [],
   "source": [
    "from __future__ import print_function"
   ]
  },
  {
   "cell_type": "markdown",
   "metadata": {},
   "source": [
    "# Proposition de correction pour le TD 1 - FI 2016"
   ]
  },
  {
   "cell_type": "markdown",
   "metadata": {},
   "source": [
    "## Question 1.1"
   ]
  },
  {
   "cell_type": "code",
   "execution_count": 2,
   "metadata": {
    "collapsed": false
   },
   "outputs": [
    {
     "name": "stdout",
     "output_type": "stream",
     "text": [
      "[1, 3, 5, 7, 9, 11, 13, 15, 17, 19, 21, 23, 25, 27, 29, 31, 33, 35, 37, 39, 41, 43, 45, 47, 49, 51, 53, 55, 57, 59, 61, 63, 65, 67, 69, 71, 73, 75, 77, 79, 81, 83, 85, 87, 89, 91, 93, 95, 97, 99, 101, 103, 105, 107, 109, 111, 113, 115, 117, 119, 121, 123, 125, 127, 129, 131, 133, 135, 137, 139, 141, 143, 145, 147, 149, 151, 153, 155, 157, 159, 161, 163, 165, 167, 169, 171, 173, 175, 177, 179, 181, 183, 185, 187, 189, 191, 193, 195, 197, 199]\n"
     ]
    }
   ],
   "source": [
    "impairs = []\n",
    "for k in range(0, 100):\n",
    "    impairs.append(2*k+1)\n",
    "    \n",
    "print (impairs)"
   ]
  },
  {
   "cell_type": "code",
   "execution_count": 6,
   "metadata": {
    "collapsed": false
   },
   "outputs": [
    {
     "name": "stdout",
     "output_type": "stream",
     "text": [
      "le dernier entier impair de notre liste est 199\n"
     ]
    }
   ],
   "source": [
    "impairs = [2*k+1 for k in range(100)]\n",
    "print (\"le dernier entier impair de notre liste est\", impairs[-1])"
   ]
  },
  {
   "cell_type": "code",
   "execution_count": 15,
   "metadata": {
    "collapsed": false
   },
   "outputs": [
    {
     "name": "stdout",
     "output_type": "stream",
     "text": [
      "[1, 3, 5, 7, 9, 11, 13, 15, 17, 19, 21, 23, 25, 27, 29, 31, 33, 35, 37, 39, 41, 43, 45, 47, 49, 51, 53, 55, 57, 59, 61, 63, 65, 67, 69, 71, 73, 75, 77, 79, 81, 83, 85, 87, 89, 91, 93, 95, 97, 99, 101, 103, 105, 107, 109, 111, 113, 115, 117, 119, 121, 123, 125, 127, 129, 131, 133, 135, 137, 139, 141, 143, 145, 147, 149, 151, 153, 155, 157, 159, 161, 163, 165, 167, 169, 171, 173, 175, 177, 179, 181, 183, 185, 187, 189, 191, 193, 195, 197, 199]\n",
      "[1, 3, 5, 7, 9, 11, 13, 15, 17, 19, 21, 23, 25, 27, 29, 31, 33, 35, 37, 39, 41, 43, 45, 47, 49, 51, 53, 55, 57, 59, 61, 63, 65, 67, 69, 71, 73, 75, 77, 79, 81, 83, 85, 87, 89, 91, 93, 95, 97, 99, 101, 103, 105, 107, 109, 111, 113, 115, 117, 119, 121, 123, 125, 127, 129, 131, 133, 135, 137, 139, 141, 143, 145, 147, 149, 151, 153, 155, 157, 159, 161, 163, 165, 167, 169, 171, 173, 175, 177, 179, 181, 183, 185, 187, 189, 191, 193, 195, 197, 199, 2000]\n"
     ]
    }
   ],
   "source": [
    "impairs = []\n",
    "for k in range(200):\n",
    "    if k % 2 != 0:\n",
    "        # k est impair car le reste de la division entiere\n",
    "        # par 2 n'est pas nul\n",
    "        impairs.append(k)\n",
    "print (impairs)\n",
    "\n",
    "impairs.append(2000)\n",
    "print (impairs)"
   ]
  },
  {
   "cell_type": "markdown",
   "metadata": {},
   "source": [
    "## Question 1.2"
   ]
  },
  {
   "cell_type": "code",
   "execution_count": 13,
   "metadata": {
    "collapsed": false
   },
   "outputs": [
    {
     "name": "stdout",
     "output_type": "stream",
     "text": [
      "la liste contient 100 termes\n"
     ]
    }
   ],
   "source": [
    "a, b = 0, 1\n",
    "fibonacci = []\n",
    "for i in range(100):\n",
    "    fibonacci.append(b)\n",
    "    a, b = b, a+b\n",
    "    \n",
    "#print (fibonacci)\n",
    "print (\"la liste contient\", len(fibonacci), \"termes\")"
   ]
  },
  {
   "cell_type": "code",
   "execution_count": 19,
   "metadata": {
    "collapsed": false
   },
   "outputs": [
    {
     "name": "stdout",
     "output_type": "stream",
     "text": [
      "[1, 1, 2, 3, 5, 8, 13, 21, 34, 55, 89, 144, 233, 377, 610, 987, 1597, 2584, 4181, 6765, 10946, 17711, 28657, 46368, 75025, 121393, 196418, 317811, 514229, 832040, 1346269, 2178309, 3524578, 5702887, 9227465, 14930352, 24157817, 39088169, 63245986, 102334155, 165580141, 267914296, 433494437, 701408733, 1134903170, 1836311903, 2971215073, 4807526976, 7778742049, 12586269025, 20365011074, 32951280099, 53316291173, 86267571272, 139583862445, 225851433717, 365435296162, 591286729879, 956722026041, 1548008755920, 2504730781961, 4052739537881, 6557470319842, 10610209857723, 17167680177565, 27777890035288, 44945570212853, 72723460248141, 117669030460994, 190392490709135, 308061521170129, 498454011879264, 806515533049393, 1304969544928657, 2111485077978050, 3416454622906707, 5527939700884757, 8944394323791464, 14472334024676221, 23416728348467685, 37889062373143906, 61305790721611591, 99194853094755497, 160500643816367088, 259695496911122585, 420196140727489673, 679891637638612258, 1100087778366101931, 1779979416004714189, 2880067194370816120, 4660046610375530309, 7540113804746346429, 12200160415121876738L, 19740274219868223167L, 31940434634990099905L, 51680708854858323072L, 83621143489848422977L, 135301852344706746049L, 218922995834555169026L, 354224848179261915075L]\n",
      "la liste contient 100 termes\n"
     ]
    }
   ],
   "source": [
    "a, b = 0, 1\n",
    "fibonacci = []\n",
    "while len(fibonacci) < 100 :\n",
    "    fibonacci.append(b)\n",
    "    a, b = b, a+b\n",
    "    \n",
    "print (fibonacci)\n",
    "print (\"la liste contient\", len(fibonacci), \"termes\")"
   ]
  },
  {
   "cell_type": "markdown",
   "metadata": {},
   "source": [
    "## Question 1.3"
   ]
  },
  {
   "cell_type": "code",
   "execution_count": 4,
   "metadata": {
    "collapsed": false
   },
   "outputs": [
    {
     "name": "stdout",
     "output_type": "stream",
     "text": [
      "69283081864224717136290077681328518273399124385204820718966040597691435587278383112277161967532530675374170857404743017623467220361778016172106855838975759985190398725\n",
      "la liste contient 100 termes\n"
     ]
    }
   ],
   "source": [
    "a, b = 0, 1\n",
    "fibonacci = []\n",
    "while len(fibonacci) < 100 :\n",
    "    if b % 7 == 0 :\n",
    "        fibonacci.append(b)\n",
    "    a, b = b, a+b\n",
    "    \n",
    "print (fibonacci[-1])\n",
    "print (\"la liste contient\", len(fibonacci), \"termes\")"
   ]
  },
  {
   "cell_type": "markdown",
   "metadata": {
    "collapsed": true
   },
   "source": [
    "# Question 2"
   ]
  },
  {
   "cell_type": "markdown",
   "metadata": {},
   "source": [
    "## Question 2.1"
   ]
  },
  {
   "cell_type": "code",
   "execution_count": 9,
   "metadata": {
    "collapsed": false
   },
   "outputs": [
    {
     "name": "stdout",
     "output_type": "stream",
     "text": [
      "La liste des diviseurs de 96 est  [1, 2, 3, 4, 6, 8, 12, 16, 24, 32, 48, 96]\n",
      "La liste des diviseurs de 13 est  [1, 13]\n",
      "La liste des diviseurs de 1 est  [1]\n"
     ]
    }
   ],
   "source": [
    "def diviseur(x):\n",
    "    \"\"\"Renvoie la liste des diviseurs de l'entier positif non nul x\"\"\"\n",
    "    liste = [] \n",
    "    for i in range(1, x+1):\n",
    "        if x % i == 0:\n",
    "            liste.append(i)\n",
    "    return liste\n",
    "\n",
    "print (\"La liste des diviseurs de 96 est \", diviseur(96))\n",
    "print (\"La liste des diviseurs de 13 est \", diviseur(13))\n",
    "print (\"La liste des diviseurs de 1 est \", diviseur(1))"
   ]
  },
  {
   "cell_type": "code",
   "execution_count": 10,
   "metadata": {
    "collapsed": false
   },
   "outputs": [
    {
     "name": "stdout",
     "output_type": "stream",
     "text": [
      "10000 loops, best of 3: 21.2 µs per loop\n"
     ]
    }
   ],
   "source": [
    "%timeit diviseur(96)"
   ]
  },
  {
   "cell_type": "code",
   "execution_count": 23,
   "metadata": {
    "collapsed": false
   },
   "outputs": [
    {
     "name": "stdout",
     "output_type": "stream",
     "text": [
      "La liste des diviseurs de 96 est  [1, 2, 3, 4, 6, 8, 12, 16, 24, 32, 48, 96]\n",
      "La liste des diviseurs de 13 est  [1, 13]\n"
     ]
    },
    {
     "ename": "ValueError",
     "evalue": "x est negatif, nul ou egal a 1",
     "output_type": "error",
     "traceback": [
      "\u001b[0;31m---------------------------------------------------------------------------\u001b[0m",
      "\u001b[0;31mValueError\u001b[0m                                Traceback (most recent call last)",
      "\u001b[0;32m<ipython-input-23-88fc7d4b171d>\u001b[0m in \u001b[0;36m<module>\u001b[0;34m()\u001b[0m\n\u001b[1;32m     11\u001b[0m \u001b[0;32mprint\u001b[0m \u001b[0;34m(\u001b[0m\u001b[0;34m\"La liste des diviseurs de 96 est \"\u001b[0m\u001b[0;34m,\u001b[0m \u001b[0mdiviseur2\u001b[0m\u001b[0;34m(\u001b[0m\u001b[0;36m96\u001b[0m\u001b[0;34m)\u001b[0m\u001b[0;34m)\u001b[0m\u001b[0;34m\u001b[0m\u001b[0m\n\u001b[1;32m     12\u001b[0m \u001b[0;32mprint\u001b[0m \u001b[0;34m(\u001b[0m\u001b[0;34m\"La liste des diviseurs de 13 est \"\u001b[0m\u001b[0;34m,\u001b[0m \u001b[0mdiviseur2\u001b[0m\u001b[0;34m(\u001b[0m\u001b[0;36m13\u001b[0m\u001b[0;34m)\u001b[0m\u001b[0;34m)\u001b[0m\u001b[0;34m\u001b[0m\u001b[0m\n\u001b[0;32m---> 13\u001b[0;31m \u001b[0;32mprint\u001b[0m \u001b[0;34m(\u001b[0m\u001b[0;34m\"La liste des diviseurs de 1 est \"\u001b[0m\u001b[0;34m,\u001b[0m \u001b[0mdiviseur2\u001b[0m\u001b[0;34m(\u001b[0m\u001b[0;36m1\u001b[0m\u001b[0;34m)\u001b[0m\u001b[0;34m)\u001b[0m\u001b[0;34m\u001b[0m\u001b[0m\n\u001b[0m",
      "\u001b[0;32m<ipython-input-23-88fc7d4b171d>\u001b[0m in \u001b[0;36mdiviseur2\u001b[0;34m(x)\u001b[0m\n\u001b[1;32m      1\u001b[0m \u001b[0;32mdef\u001b[0m \u001b[0mdiviseur2\u001b[0m\u001b[0;34m(\u001b[0m\u001b[0mx\u001b[0m\u001b[0;34m)\u001b[0m\u001b[0;34m:\u001b[0m\u001b[0;34m\u001b[0m\u001b[0m\n\u001b[1;32m      2\u001b[0m     \u001b[0;34m\"\"\"Renvoie la liste des diviseurs de l'entier x > 1\"\"\"\u001b[0m\u001b[0;34m\u001b[0m\u001b[0m\n\u001b[0;32m----> 3\u001b[0;31m     \u001b[0;32mif\u001b[0m \u001b[0mx\u001b[0m \u001b[0;34m<=\u001b[0m \u001b[0;36m1\u001b[0m\u001b[0;34m:\u001b[0m \u001b[0;32mraise\u001b[0m \u001b[0mValueError\u001b[0m\u001b[0;34m(\u001b[0m\u001b[0;34m'x est negatif, nul ou egal a 1'\u001b[0m\u001b[0;34m)\u001b[0m\u001b[0;34m\u001b[0m\u001b[0m\n\u001b[0m\u001b[1;32m      4\u001b[0m     \u001b[0mliste\u001b[0m \u001b[0;34m=\u001b[0m \u001b[0;34m[\u001b[0m\u001b[0;36m1\u001b[0m\u001b[0;34m]\u001b[0m\u001b[0;34m\u001b[0m\u001b[0m\n\u001b[1;32m      5\u001b[0m     \u001b[0;32mfor\u001b[0m \u001b[0mi\u001b[0m \u001b[0;32min\u001b[0m \u001b[0mrange\u001b[0m\u001b[0;34m(\u001b[0m\u001b[0;36m2\u001b[0m\u001b[0;34m,\u001b[0m \u001b[0mx\u001b[0m\u001b[0;34m)\u001b[0m\u001b[0;34m:\u001b[0m\u001b[0;34m\u001b[0m\u001b[0m\n",
      "\u001b[0;31mValueError\u001b[0m: x est negatif, nul ou egal a 1"
     ]
    }
   ],
   "source": [
    "def diviseur2(x):\n",
    "    \"\"\"Renvoie la liste des diviseurs de l'entier x > 1\"\"\"\n",
    "    if x <= 1: raise ValueError('x est negatif, nul ou egal a 1')\n",
    "    liste = [1] \n",
    "    for i in range(2, x):\n",
    "        if x % i == 0:\n",
    "            liste.append(i)\n",
    "    liste.append(x)\n",
    "    return liste\n",
    "\n",
    "print (\"La liste des diviseurs de 96 est \", diviseur2(96))\n",
    "print (\"La liste des diviseurs de 13 est \", diviseur2(13))\n",
    "print (\"La liste des diviseurs de 1 est \", diviseur2(1))"
   ]
  },
  {
   "cell_type": "code",
   "execution_count": 17,
   "metadata": {
    "collapsed": false
   },
   "outputs": [
    {
     "name": "stdout",
     "output_type": "stream",
     "text": [
      "10000 loops, best of 3: 19.9 µs per loop\n"
     ]
    }
   ],
   "source": [
    "%timeit diviseur2(96)"
   ]
  },
  {
   "cell_type": "markdown",
   "metadata": {},
   "source": [
    "## Question 2.2"
   ]
  },
  {
   "cell_type": "code",
   "execution_count": 25,
   "metadata": {
    "collapsed": false
   },
   "outputs": [
    {
     "name": "stdout",
     "output_type": "stream",
     "text": [
      "Est ce que 8 est premier? False\n",
      "Est ce que 2 est premier? True\n",
      "Est ce que 17 est premier? True\n",
      "Est ce que 1 est premier? False\n"
     ]
    }
   ],
   "source": [
    "def est_premier(y):\n",
    "    \"\"\"Teste si un entier est premier\"\"\"\n",
    "    liste_diviseur = diviseur(y)\n",
    "    \n",
    "    if len(liste_diviseur) == 2: return True\n",
    "    else: return False\n",
    "    \n",
    "print (\"Est ce que 8 est premier?\", est_premier(8))\n",
    "print (\"Est ce que 2 est premier?\", est_premier(2))\n",
    "print (\"Est ce que 17 est premier?\", est_premier(17))\n",
    "print (\"Est ce que 1 est premier?\", est_premier(1))\n"
   ]
  },
  {
   "cell_type": "markdown",
   "metadata": {},
   "source": [
    "## Question 2.3"
   ]
  },
  {
   "cell_type": "code",
   "execution_count": 26,
   "metadata": {
    "collapsed": false
   },
   "outputs": [
    {
     "name": "stdout",
     "output_type": "stream",
     "text": [
      "Les nombres premiers inférieur à 101 sont [2, 3, 5, 7, 11, 13, 17, 19, 23, 29, 31, 37, 41, 43, 47, 53, 59, 61, 67, 71, 73, 79, 83, 89, 97]\n"
     ]
    }
   ],
   "source": [
    "def liste_premiers(n):\n",
    "    \"\"\"Retourne la liste des nombres premiers strictement inférieur à n\"\"\"\n",
    "    ma_liste = []\n",
    "    for i in range(n):\n",
    "        if est_premier(i) == True: ma_liste.append(i)\n",
    "    return ma_liste\n",
    "\n",
    "print (\"Les nombres premiers inférieur à 101 sont\", liste_premiers(101))"
   ]
  },
  {
   "cell_type": "markdown",
   "metadata": {},
   "source": [
    "# Question 3"
   ]
  },
  {
   "cell_type": "code",
   "execution_count": 28,
   "metadata": {
    "collapsed": false
   },
   "outputs": [
    {
     "name": "stdout",
     "output_type": "stream",
     "text": [
      "[6, 28, 496, 8128]\n"
     ]
    }
   ],
   "source": [
    "def liste_parfaits(k):\n",
    "    \"\"\"Renvoie la liste des k premiers nombres parfaits\"\"\"\n",
    "    ma_liste =[6]\n",
    "    a = 7\n",
    "    while len(ma_liste) < k:\n",
    "        liste_diviseurs = diviseur(a)\n",
    "        nb_diviseurs = len(liste_diviseurs)\n",
    "        somme = 0\n",
    "        for i in range(nb_diviseurs-1):\n",
    "            somme = somme + liste_diviseurs[i]\n",
    "        if somme == a: ma_liste.append(a)\n",
    "        a = a + 1\n",
    "    return ma_liste\n",
    "    \n",
    "print (liste_parfaits(4))"
   ]
  },
  {
   "cell_type": "code",
   "execution_count": null,
   "metadata": {
    "collapsed": true
   },
   "outputs": [],
   "source": []
  }
 ],
 "metadata": {
  "anaconda-cloud": {},
  "kernelspec": {
   "display_name": "Python [Root]",
   "language": "python",
   "name": "Python [Root]"
  },
  "language_info": {
   "codemirror_mode": {
    "name": "ipython",
    "version": 2
   },
   "file_extension": ".py",
   "mimetype": "text/x-python",
   "name": "python",
   "nbconvert_exporter": "python",
   "pygments_lexer": "ipython2",
   "version": "2.7.12"
  }
 },
 "nbformat": 4,
 "nbformat_minor": 0
}
